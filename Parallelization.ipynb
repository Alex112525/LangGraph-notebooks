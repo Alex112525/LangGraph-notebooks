{
  "nbformat": 4,
  "nbformat_minor": 0,
  "metadata": {
    "colab": {
      "provenance": [],
      "authorship_tag": "ABX9TyON57hBwPolNNYxYJlZz5wG",
      "include_colab_link": true
    },
    "kernelspec": {
      "name": "python3",
      "display_name": "Python 3"
    },
    "language_info": {
      "name": "python"
    }
  },
  "cells": [
    {
      "cell_type": "markdown",
      "metadata": {
        "id": "view-in-github",
        "colab_type": "text"
      },
      "source": [
        "<a href=\"https://colab.research.google.com/github/Alex112525/LangGraph-notebooks/blob/main/Parallelization.ipynb\" target=\"_parent\"><img src=\"https://colab.research.google.com/assets/colab-badge.svg\" alt=\"Open In Colab\"/></a>"
      ]
    },
    {
      "cell_type": "code",
      "source": [
        "pip install langgraph langgraph-sdk langgraph-checkpoint-sqlite langsmith langchain-community langchain-core langchain-openai tavily-python wikipedia"
      ],
      "metadata": {
        "collapsed": true,
        "id": "6_f_UXjQt_RA"
      },
      "execution_count": null,
      "outputs": []
    },
    {
      "cell_type": "code",
      "execution_count": 2,
      "metadata": {
        "id": "RKG1FQB1sh5D"
      },
      "outputs": [],
      "source": [
        "import os\n",
        "import operator\n",
        "from datetime import datetime\n",
        "from typing import Any, Annotated\n",
        "from typing_extensions import TypedDict\n",
        "\n",
        "from google.colab import userdata\n",
        "from IPython.display import Image, display, Markdown"
      ]
    },
    {
      "cell_type": "code",
      "source": [
        "from langchain_core.documents import Document\n",
        "from langchain_core.messages import HumanMessage, SystemMessage, AIMessage\n",
        "from langchain_community.document_loaders import WikipediaLoader\n",
        "from langchain_community.tools.tavily_search import TavilySearchResults\n",
        "\n",
        "from langgraph.graph import MessagesState\n",
        "from langgraph.graph import StateGraph, START, END\n",
        "from langgraph.prebuilt import ToolNode, tools_condition\n",
        "from langgraph.checkpoint.memory import MemorySaver"
      ],
      "metadata": {
        "id": "7Q2fIQPu3oac"
      },
      "execution_count": 3,
      "outputs": []
    },
    {
      "cell_type": "code",
      "source": [
        "from langchain_openai import AzureChatOpenAI\n",
        "from langchain_community.retrievers import TavilySearchAPIRetriever"
      ],
      "metadata": {
        "id": "oyt1sJWewAXL"
      },
      "execution_count": 4,
      "outputs": []
    },
    {
      "cell_type": "code",
      "source": [
        "os.environ[\"AZURE_OPENAI_API_KEY\"] = userdata.get('Azure_openai')\n",
        "os.environ[\"AZURE_OPENAI_ENDPOINT\"] = userdata.get('Endpoint_openai')\n",
        "os.environ[\"TAVILY_API_KEY\"] = userdata.get('Tavily_API_key')"
      ],
      "metadata": {
        "id": "ma4zeB2TwaDl"
      },
      "execution_count": 5,
      "outputs": []
    },
    {
      "cell_type": "markdown",
      "source": [
        "## Utils Funtions"
      ],
      "metadata": {
        "id": "I3YSHIzQvyN0"
      }
    },
    {
      "cell_type": "code",
      "source": [
        "def get_model(model:str=\"DASH-mini\", temp:float=0.1, max_tokens:int=100):\n",
        "  \"\"\"Get model from Azure OpenAI\"\"\"\n",
        "  model = AzureChatOpenAI(\n",
        "        openai_api_version=\"2024-02-15-preview\",\n",
        "        azure_deployment=model,\n",
        "        temperature=temp,\n",
        "        max_tokens=max_tokens,\n",
        "    )\n",
        "  return model"
      ],
      "metadata": {
        "id": "Y-jdvuBbvxpH"
      },
      "execution_count": 6,
      "outputs": []
    },
    {
      "cell_type": "code",
      "source": [
        "gpt4o_mini = get_model(max_tokens= 500)"
      ],
      "metadata": {
        "id": "u3XW_8nHwzB9"
      },
      "execution_count": 7,
      "outputs": []
    },
    {
      "cell_type": "code",
      "source": [
        "class State(TypedDict):\n",
        "  # Append from Sources\n",
        "  question: str\n",
        "  answer: str\n",
        "  context: Annotated[list, operator.add]"
      ],
      "metadata": {
        "id": "Cr0vrhFr2NjR"
      },
      "execution_count": 8,
      "outputs": []
    },
    {
      "cell_type": "markdown",
      "source": [
        "### Tools to search"
      ],
      "metadata": {
        "id": "1YLkLKYS7YV7"
      }
    },
    {
      "cell_type": "code",
      "source": [
        "def web_search(state):\n",
        "  \"\"\"Retrieve docs from web search\"\"\"\n",
        "\n",
        "  # Search\n",
        "  print(datetime.now(), \"- Start Web search\")\n",
        "  tavily_search = TavilySearchResults(max_results = 3)\n",
        "  search_docs = tavily_search.invoke(state[\"question\"])\n",
        "\n",
        "  # Format\n",
        "  formatted_search_docs = \"\\n---\\n\".join(\n",
        "      [f'<Document href={doc[\"url\"]}/>\\n{doc[\"content\"]}\\n </Document>' for doc in search_docs]\n",
        "  )\n",
        "  print(datetime.now(), \"- End Web search\")\n",
        "  return {\"context\": [formatted_search_docs]}"
      ],
      "metadata": {
        "id": "edDblQiP2Nao"
      },
      "execution_count": 9,
      "outputs": []
    },
    {
      "cell_type": "code",
      "source": [
        "def wiki_search(state):\n",
        "  \"\"\"Retrieve docs from wikipedia\"\"\"\n",
        "\n",
        "  # Search\n",
        "  print(datetime.now(), \"- Start Wiki search\")\n",
        "  search_docs = WikipediaLoader(query=state[\"question\"], load_max_docs=2).load()\n",
        "\n",
        "  # Format\n",
        "  formatted_search_docs = \"\\n---\\n\".join(\n",
        "      [f'<Document source=\"{doc.metadata[\"source\"]}\" page=\"{doc.metadata.get(\"page\", \"\")}\"/>\\n{doc.page_content}\\n</Document>' for doc in search_docs]\n",
        "  )\n",
        "  print(datetime.now(), \"- End Wikipedia search\")\n",
        "  return {\"context\": [formatted_search_docs]}"
      ],
      "metadata": {
        "id": "csxTnAo42NM1"
      },
      "execution_count": 10,
      "outputs": []
    },
    {
      "cell_type": "code",
      "source": [
        "def generate_answer(state):\n",
        "  \"\"\"Node to answer a question\"\"\"\n",
        "\n",
        "  # Get state\n",
        "  context = state[\"context\"]\n",
        "  question = state[\"question\"]\n",
        "\n",
        "  # Template\n",
        "  answer_template = \"\"\"Answer the question {question}, using the following context {context}\"\"\"\n",
        "  answer_instructions = answer_template.format(question=question, context=context)\n",
        "\n",
        "  # Answer\n",
        "  ans = gpt4o_mini.invoke([SystemMessage(content=answer_instructions)])\n",
        "\n",
        "  return {\"answer\": ans}"
      ],
      "metadata": {
        "id": "iB4e8A5a6DzK"
      },
      "execution_count": 11,
      "outputs": []
    },
    {
      "cell_type": "markdown",
      "source": [
        "### Build Graph"
      ],
      "metadata": {
        "id": "nvFMWoxn7ftm"
      }
    },
    {
      "cell_type": "code",
      "source": [
        "# Add nodes\n",
        "builder = StateGraph(State)\n",
        "\n",
        "builder.add_node(\"Web search\", web_search)\n",
        "builder.add_node(\"Wiki search\", wiki_search)\n",
        "builder.add_node(\"Generate answer\", generate_answer)\n",
        "\n",
        "# Flow\n",
        "builder.add_edge(START, \"Wiki search\")\n",
        "builder.add_edge(START, \"Web search\")\n",
        "builder.add_edge(\"Web search\", \"Generate answer\")\n",
        "builder.add_edge(\"Wiki search\", \"Generate answer\")\n",
        "builder.add_edge(\"Generate answer\", END)\n",
        "\n",
        "graph = builder.compile()\n",
        "\n",
        "display(Image(graph.get_graph().draw_mermaid_png()))"
      ],
      "metadata": {
        "colab": {
          "base_uri": "https://localhost:8080/",
          "height": 350
        },
        "id": "vehJaN-V7hkR",
        "outputId": "afc96fe2-57c9-4121-d4c7-e762c417258d"
      },
      "execution_count": 12,
      "outputs": [
        {
          "output_type": "display_data",
          "data": {
            "image/jpeg": "[encoded data removed]",
            "text/plain": [
              "<IPython.core.display.Image object>"
            ]
          },
          "metadata": {}
        }
      ]
    },
    {
      "cell_type": "code",
      "source": [
        "results = graph.invoke({\"question\": \"What is Attention in human cognition\"})"
      ],
      "metadata": {
        "colab": {
          "base_uri": "https://localhost:8080/"
        },
        "id": "LkLQ-Rv57hpm",
        "outputId": "4c6221de-bc9f-45b3-a4fc-2bf2e3b03453"
      },
      "execution_count": 13,
      "outputs": [
        {
          "output_type": "stream",
          "name": "stdout",
          "text": [
            "2024-10-03 01:34:44.699734 - Start Web search\n",
            "2024-10-03 01:34:44.706278 - Start Wiki search\n",
            "2024-10-03 01:34:46.978555 - End Wikipedia search\n",
            "2024-10-03 01:34:47.546697 - End Web search\n"
          ]
        }
      ]
    },
    {
      "cell_type": "markdown",
      "source": [
        "Looking at the time, we can see that both searches were running in parallel at the same time."
      ],
      "metadata": {
        "id": "OwYAJsYNAPZo"
      }
    },
    {
      "cell_type": "code",
      "source": [
        "results[\"context\"]"
      ],
      "metadata": {
        "colab": {
          "base_uri": "https://localhost:8080/"
        },
        "id": "TT9_4ZeR-QtJ",
        "outputId": "69054d71-c36d-498e-a875-72a360ae6a5b"
      },
      "execution_count": 14,
      "outputs": [
        {
          "output_type": "execute_result",
          "data": {
            "text/plain": [
              "['<Document href=https://practicalpie.com/attention-psychology//>\\nIt underscores a fundamental aspect of human cognition: our attention is limited, even when focused intently on a task. It reveals the boundaries of human perception and illustrates how easy it is for us to miss even glaringly obvious events when our attention is directed elsewhere. This has broader implications in driving safety, aviation, and ...\\n </Document>\\n---\\n<Document href=https://www.verywellmind.com/what-is-attention-2795009/>\\nAttention allows you to \"tune out\" information, sensations, and perceptions that are not relevant at the moment and instead focus your energy on the information that\\'s important.\\u200b\\nNot only does our attentional system allow us to focus on something specific in our environment while tuning out irrelevant details, but it also affects our perception of the stimuli surrounding us.\\n In his 1890 book “The Principles of Psychology,” psychologist and philosopher William James wrote that attention \"is the taking possession by the mind, in clear and vivid form, of one out of what may seem several simultaneously possible objects or trains of thought…It implies withdrawal from some things in order to deal effectively with others. Key variables that impact our ability to stay on task include how interested we are in the stimulus and how many distractions there are.\\nTypes of Attention\\nThere are many different types of attention that people may use. Attention is limited in terms of both capacity and duration, so it is important to have ways to effectively manage the attentional resources we have available in order to make sense of the world.\\n This type of attention requires you to be able to tune out extraneous external stimuli, but also internal distractions such as thoughts and emotions in order to stay selectively attuned to a task.\\n\\n </Document>\\n---\\n<Document href=https://journals.sagepub.com/doi/full/10.1177/0963721420969371/>\\nOur interest in attention control stems from the close relationship between working memory—the cognitive system responsible for the temporary maintenance of information in a highly accessible state (Baddeley & Hitch, 1974)—and fluid intelligence—the ability to solve novel problems and adapt to new situations (Engle, Tuholski, Laughlin, & Conway, 1999).\\n </Document>',\n",
              " '<Document source=\"https://en.wikipedia.org/wiki/Michael_Tomasello\" page=\"\"/>\\nMichael Tomasello (born January 18, 1950) is an American developmental and comparative psychologist, as well as a linguist. He is professor of psychology at Duke University.\\nEarning many prizes and awards from the end of the 1990s onward, he is considered one of today\\'s most authoritative developmental and comparative psychologists. He is \"one of the few scientists worldwide who is acknowledged as an expert in multiple disciplines\". His \"pioneering research on the origins of social cognition has led to revolutionary insights in both developmental psychology and primate cognition.\"\\n\\n\\n== Early life and education ==\\nTomasello was born in Bartow, Florida and attended high school at the Taft School in Watertown, Connecticut. He received his bachelor\\'s degree 1972 from Duke University and his doctorate in Experimental Psychology 1980 from University of Georgia.\\n\\n\\n== Career ==\\nTomasello was a professor of psychology and anthropology at Emory University in Atlanta, Georgia, US, during the 1980s and 1990s. Subsequently, he moved to Germany to become co-director of Max Planck Institute for Evolutionary Anthropology in Leipzig, and later also honorary professor at University of Leipzig and co-director of the Wolfgang Kohler Primate Research Center. In 2016, he became professor of psychology and neuroscience at Duke University, where he now is James F. Bonk Distinguished Professor.\\nHe works on child language acquisition as a crucially important aspect of the enculturation process. He is a critic of Noam Chomsky\\'s universal grammar, rejecting the idea of an innate universal grammar and instead proposing a functional theory of language development (sometimes called the social-pragmatic theory of language acquisition or usage-based approach to language acquisition) in which children learn linguistic structures through intention-reading and pattern-finding in their discourse interactions with others.\\nTomasello also studies broader cognitive skills in a comparative light at the Wolfgang Köhler Primate Research Center in Leipzig. With his research team, he created a set of experimental devices to test toddlers\\' (from 6 months to 24 months) and apes\\' spatial, instrumental, and social cognition; the outcome of which is that social (even ultrasocial) cognition is what truly sets human apart.\\n\\n\\n=== Uniqueness of human social cognition: broad outlines ===\\nMore specifically, Tomasello argues that non-human apes lack a series of skills [ see https://www.pnas.org/doi/10.1073/pnas.1812244115 for more detail]:\\n\\nsocial learning through pedagogical ostension and deliberate transmission;\\nover-imitation, imitating not only action but also manners and styles of doing;\\ninformative pointing;\\nperspectival views, looking at the same thing or event alternatively from another agent\\'s angle;\\nrecursive mind reading, knowing what others know we know they know (and so forth);\\nthird-party punishment (when agent C punishes or avoids collaborating with agent B because of agent B\\'s unfairness toward agent A);\\nbuilding and enlarging common ground (communicating in order to share with others, and building a sphere of things that are commonly known);\\ngroup-mindedness (prescriptive feeling of belonging, of interdependence, of self-monitoring following general, impersonal expectations); and\\ncumulative culture, sometimes coined \"the ratchet effect\".\\nTomasello sees these skills as being preceded and encompassed by the capacity to share attention and intention (collective intentionality), an evolutionary novelty that would have emerged as a cooperative integrating of apes skills that formerly worked in competition.\\n\\n\\n=== The sharing of attention and of intention ===\\nThe overall scheme of sharing of attention and of intention involves inferring a common need; being motivated to act cooperatively to fulfill this need; coordinating individuals\\' roles and perspectives under the common goal of fulfilling this common need if, and only if, other agents fulfill their commitment toward tha\\n</Document>\\n---\\n<Document source=\"https://en.wikipedia.org/wiki/Attention_Is_All_You_Need\" page=\"\"/>\\n\"Attention Is All You Need\" is a 2017 landmark research paper in machine learning authored by eight scientists working at Google. The paper introduced a new deep learning architecture known as the transformer, based on the attention mechanism proposed in 2014 by Bahdanau et al. It is considered a foundational paper in modern artificial intelligence, as the transformer approach has become the main architecture of large language models like those based on GPT. At the time, the focus of the research was on improving Seq2seq techniques for machine translation, but the authors go further in the paper, foreseeing the technique\\'s potential for other tasks like question answering and what is now known as multimodal Generative AI.\\nThe paper\\'s title is a reference to the song \"All You Need Is Love\" by the Beatles. The name \"Transformer\" was picked because Uszkoreit liked the sound of that word.\\nAn early design document was titled \"Transformers: Iterative Self-Attention and Processing for Various Tasks\", and included an illustration of six characters from the Transformers animated show. The team was named Team Transformer.\\nSome early examples that the team tried their Transformer architecture on included English-to-German translation, generating Wikipedia articles on \"The Transformer\", and parsing. These convinced the team that the Transformer is a general purpose language model, and not just good for translation.\\nAs of 2024, the paper has been cited more than 100,000 times.\\nFor their 100M-parameter Transformer model, they suggested learning rate should be linearly scaled up from 0 to maximal value for the first part of the training (i.e. 2% of the total number of training steps), and to use dropout, to stabilize training.\\n\\n\\n== Authors ==\\nThe authors of the paper are: Ashish Vaswani, Noam Shazeer, Niki Parmar, Jakob Uszkoreit, Llion Jones, Aidan Gomez, Lukasz Kaiser, and Illia Polosukhin. All eight authors were \"equal contributors\" to the paper; the listed order was randomized. The Wired article highlights the group\\'s diversity:\\n\\nSix of the eight authors were born outside the United States; the other two are children of two green-card-carrying Germans who were temporarily in California and a first-generation American whose family had fled persecution, respectively.\\n\\nBy 2023, all eight authors had left Google and founded their own AI start-ups (except Łukasz Kaiser, who joined OpenAI).\\n\\n\\n== Historical context ==\\n\\n\\n=== Predecessors ===\\nFor many years, sequence modelling and generation was done by using plain recurrent neural networks (RNNs). A well-cited early example was the Elman network (1990). In theory, the information from one token can propagate arbitrarily far down the sequence, but in practice the vanishing-gradient problem leaves the model\\'s state at the end of a long sentence without precise, extractable information about preceding tokens.\\nA key breakthrough was LSTM (1995), a RNN which used various innovations to overcome the vanishing gradient problem, allowing efficient learning of long-sequence modelling. One key innovation was the use of an attention mechanism which used neurons that multiply the outputs of other neurons, so-called multiplicative units. Neural networks using multiplicative units were later called sigma-pi networks or higher-order networks. LSTM became the standard architecture for long sequence modelling until the 2017 publication of Transformers.\\nHowever, LSTM still used sequential processing, like most other RNNs. Specifically, RNNs operate one token at a time from first to last; they cannot operate in parallel over all tokens in a sequence. \\nModern Transformers overcome this problem, but unlike RNNs, they require computation time that is quadratic in the size of the context window.  The linearly scaling fast weight controller (1992) learns  to compute a  weight matrix for further processing depending on the input. One of its two networks has  \"fast weights\" or \"dynamic links\" (1981). A slow neural networ\\n</Document>']"
            ]
          },
          "metadata": {},
          "execution_count": 14
        }
      ]
    },
    {
      "cell_type": "code",
      "source": [
        "display(Markdown(results[\"answer\"].content))"
      ],
      "metadata": {
        "colab": {
          "base_uri": "https://localhost:8080/",
          "height": 220
        },
        "id": "b838LQj1-Eyu",
        "outputId": "f9dece17-2f75-496b-9ef7-79a7b7e6150a"
      },
      "execution_count": 15,
      "outputs": [
        {
          "output_type": "display_data",
          "data": {
            "text/plain": [
              "<IPython.core.display.Markdown object>"
            ],
            "text/markdown": "Attention in human cognition refers to the mental process that allows individuals to focus on specific stimuli or tasks while filtering out irrelevant information. This cognitive function is crucial for managing the limited capacity of our attentional resources, enabling us to concentrate on what is most important at any given moment. \n\nAs highlighted in the provided context, attention is inherently limited, meaning that even when we are intensely focused, we can easily miss significant events occurring around us. This limitation underscores the boundaries of human perception and has practical implications in various fields, such as driving and aviation.\n\nWilliam James, a prominent psychologist, described attention as the \"taking possession by the mind\" of one out of several possible objects or thoughts, emphasizing the need to withdraw from some stimuli to effectively engage with others. The ability to manage attention is influenced by factors such as interest in the stimulus and the presence of distractions.\n\nThere are different types of attention, each serving distinct functions in our cognitive processes. Effective attention management is essential for making sense of the world, as it allows us to tune out extraneous stimuli, both external and internal, and remain focused on our tasks."
          },
          "metadata": {}
        }
      ]
    },
    {
      "cell_type": "code",
      "source": [
        "results = graph.invoke({\"question\": \"What is a Transformer and why is important in AI\"})"
      ],
      "metadata": {
        "colab": {
          "base_uri": "https://localhost:8080/"
        },
        "id": "lqcJHG3A_JwW",
        "outputId": "2e5a65d3-8533-4fa0-d8ac-9c9f096b7f2b"
      },
      "execution_count": 16,
      "outputs": [
        {
          "output_type": "stream",
          "name": "stdout",
          "text": [
            "2024-10-03 01:34:49.408271 - Start Web search\n",
            "2024-10-03 01:34:49.417260 - Start Wiki search\n",
            "2024-10-03 01:34:51.760849 - End Wikipedia search\n",
            "2024-10-03 01:34:51.901916 - End Web search\n"
          ]
        }
      ]
    },
    {
      "cell_type": "code",
      "source": [
        "display(Markdown(results[\"answer\"].content))"
      ],
      "metadata": {
        "colab": {
          "base_uri": "https://localhost:8080/",
          "height": 413
        },
        "id": "aDvpvfGD_ZYD",
        "outputId": "3ab30272-947b-47f3-986d-2173910dd12c"
      },
      "execution_count": 17,
      "outputs": [
        {
          "output_type": "display_data",
          "data": {
            "text/plain": [
              "<IPython.core.display.Markdown object>"
            ],
            "text/markdown": "A **Transformer** is a type of neural network architecture that has revolutionized the field of artificial intelligence (AI), particularly in natural language processing (NLP). Introduced in a 2017 paper titled \"Attention is All You Need,\" the Transformer architecture is designed to handle sequential data, such as text, by using a mechanism called **self-attention**. This allows the model to weigh the importance of different words in a sentence relative to each other, capturing context and relationships more effectively than previous models like recurrent neural networks (RNNs) or convolutional neural networks (CNNs).\n\n### Importance in AI:\n\n1. **Contextual Understanding**: Transformers excel at understanding the interplay of words in a sentence, which is crucial for tasks like translation, summarization, and sentiment analysis. Models like BERT and GPT, which are based on the Transformer architecture, have set new benchmarks in these areas.\n\n2. **Scalability**: Transformers can be scaled up to billions of parameters, enabling them to capture a wide range of human language and knowledge. This scalability has led to the development of large language models that can perform various tasks with minimal fine-tuning.\n\n3. **Transfer Learning**: The architecture supports techniques like transfer learning, allowing models to be pre-trained on large datasets and then fine-tuned for specific tasks. This makes it easier and faster to customize models for different applications.\n\n4. **Generative Capabilities**: Transformers are foundational to generative AI, enabling the creation of coherent and contextually relevant text, images, and other media. This has led to significant advancements in creative tools and applications.\n\n5. **Broader Applications**: Beyond language, Transformers are being applied in fields like genomics, where they can analyze DNA sequences similarly to language, predicting the effects of genetic mutations and identifying disease-related patterns.\n\nIn summary, the Transformer architecture is crucial in AI because it enhances the ability of machines to understand and generate human-like text, supports large-scale learning, and opens up new avenues for innovation across various domains."
          },
          "metadata": {}
        }
      ]
    }
  ]
}