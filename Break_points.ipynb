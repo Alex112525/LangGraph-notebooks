{
  "nbformat": 4,
  "nbformat_minor": 0,
  "metadata": {
    "colab": {
      "provenance": [],
      "toc_visible": true,
      "authorship_tag": "ABX9TyPtlsCLTR2FC0thJ/Qhu8JG",
      "include_colab_link": true
    },
    "kernelspec": {
      "name": "python3",
      "display_name": "Python 3"
    },
    "language_info": {
      "name": "python"
    }
  },
  "cells": [
    {
      "cell_type": "markdown",
      "metadata": {
        "id": "view-in-github",
        "colab_type": "text"
      },
      "source": [
        "<a href=\"https://colab.research.google.com/github/Alex112525/LangGraph-notebooks/blob/main/Break_points.ipynb\" target=\"_parent\"><img src=\"https://colab.research.google.com/assets/colab-badge.svg\" alt=\"Open In Colab\"/></a>"
      ]
    },
    {
      "cell_type": "code",
      "source": [
        "pip install langgraph langgraph-sdk langgraph-checkpoint-sqlite langsmith langchain-community langchain-core langchain-openai"
      ],
      "metadata": {
        "collapsed": true,
        "id": "6_f_UXjQt_RA"
      },
      "execution_count": null,
      "outputs": []
    },
    {
      "cell_type": "code",
      "execution_count": 2,
      "metadata": {
        "id": "RKG1FQB1sh5D"
      },
      "outputs": [],
      "source": [
        "import os\n",
        "from google.colab import userdata\n",
        "from IPython.display import Image, display"
      ]
    },
    {
      "cell_type": "code",
      "source": [
        "from langchain_openai import AzureChatOpenAI\n",
        "from langchain_core.messages import HumanMessage, SystemMessage"
      ],
      "metadata": {
        "id": "oyt1sJWewAXL"
      },
      "execution_count": 3,
      "outputs": []
    },
    {
      "cell_type": "code",
      "source": [
        "from langgraph.graph import MessagesState\n",
        "from langgraph.graph import StateGraph, START, END\n",
        "from langgraph.prebuilt import ToolNode, tools_condition\n",
        "from langgraph.checkpoint.memory import MemorySaver"
      ],
      "metadata": {
        "id": "O8Ngt6D1Nw_i"
      },
      "execution_count": 4,
      "outputs": []
    },
    {
      "cell_type": "code",
      "source": [
        "os.environ[\"AZURE_OPENAI_API_KEY\"] = userdata.get('Azure_openai')\n",
        "os.environ[\"AZURE_OPENAI_ENDPOINT\"] = userdata.get('Endpoint_openai')"
      ],
      "metadata": {
        "id": "ma4zeB2TwaDl"
      },
      "execution_count": 5,
      "outputs": []
    },
    {
      "cell_type": "markdown",
      "source": [
        "## Utils Funtions"
      ],
      "metadata": {
        "id": "I3YSHIzQvyN0"
      }
    },
    {
      "cell_type": "code",
      "source": [
        "def get_model(model:str=\"DASH-mini\", temp:float=0.1, max_tokens:int=300):\n",
        "  \"\"\"Get model from Azure OpenAI\"\"\"\n",
        "  model = AzureChatOpenAI(\n",
        "        openai_api_version=\"2024-02-15-preview\",\n",
        "        azure_deployment=model,\n",
        "        temperature=temp,\n",
        "        max_tokens=max_tokens,\n",
        "    )\n",
        "  return model"
      ],
      "metadata": {
        "id": "Y-jdvuBbvxpH"
      },
      "execution_count": 15,
      "outputs": []
    },
    {
      "cell_type": "markdown",
      "source": [
        "#### Tools"
      ],
      "metadata": {
        "id": "cMvPmhkTMaez"
      }
    },
    {
      "cell_type": "code",
      "source": [
        "def sum(a:float, b:float) -> float:\n",
        "  \"\"\"Sum a and b\n",
        "\n",
        "  Args:\n",
        "    a: first number\n",
        "    b: second number\"\"\"\n",
        "  return a+b\n",
        "\n",
        "def minus(a:float, b:float) -> float:\n",
        "  \"\"\"Minus a and b\n",
        "\n",
        "  Args:\n",
        "    a: first number\n",
        "    b: second number\"\"\"\n",
        "  return a-b\n",
        "\n",
        "def multiply(a:float, b:float) -> float:\n",
        "  \"\"\"Multiply a and b\n",
        "\n",
        "  Args:\n",
        "    a: first number\n",
        "    b: second number\"\"\"\n",
        "  return a*b\n",
        "\n",
        "def divide(a:float, b:float) -> float:\n",
        "  \"\"\"Divide a and b\n",
        "\n",
        "  Args:\n",
        "    a: first number\n",
        "    b: second number\"\"\"\n",
        "  return a/b if b != 0 else \"We cannot divide by zero\""
      ],
      "metadata": {
        "id": "lF3W_BECMZYN"
      },
      "execution_count": 7,
      "outputs": []
    },
    {
      "cell_type": "markdown",
      "source": [
        "#### Model binding\n",
        "\n",
        "__“binding”__ tools refers to the process of connecting or associating specific tools or functions with the model so that it can use them during its operations."
      ],
      "metadata": {
        "id": "aAWMPkZuNFwC"
      }
    },
    {
      "cell_type": "code",
      "source": [
        "llm = get_model()\n",
        "llm_with_tools = llm.bind_tools(\n",
        "    tools=[sum, minus, multiply, divide]\n",
        ")"
      ],
      "metadata": {
        "id": "0FMEhcQiM2_B"
      },
      "execution_count": 16,
      "outputs": []
    },
    {
      "cell_type": "code",
      "source": [
        "# System Message\n",
        "sys_msg = SystemMessage(content=\"You are a helpful math tutor. Guide the user through the solution step by step.\")\n",
        "\n",
        "def assistant(state: MessagesState):\n",
        "  return {\"messages\": [llm_with_tools.invoke([sys_msg] + state[\"messages\"])]}"
      ],
      "metadata": {
        "id": "BOn5hgVfNW87"
      },
      "execution_count": 17,
      "outputs": []
    },
    {
      "cell_type": "code",
      "source": [
        "# Build Graph\n",
        "builder = StateGraph(MessagesState)\n",
        "builder.add_node(\"assistant\", assistant)\n",
        "builder.add_node(\"tools\", ToolNode([sum, minus, multiply, divide]))\n",
        "\n",
        "builder.add_edge(START, \"assistant\")\n",
        "builder.add_conditional_edges(\"assistant\", tools_condition) # If latest message is a tool Call -> routes Tool else routes END\n",
        "builder.add_edge(\"tools\", \"assistant\")\n",
        "\n",
        "# Add Memory\n",
        "memory = MemorySaver()\n",
        "graph = builder.compile(interrupt_before=[\"tools\"], checkpointer=memory)\n",
        "\n",
        "#View graph\n",
        "display(Image(graph.get_graph().draw_mermaid_png()))"
      ],
      "metadata": {
        "colab": {
          "base_uri": "https://localhost:8080/",
          "height": 308
        },
        "id": "4wp0za7wOnCq",
        "outputId": "6dcd25e0-7150-4d90-d639-5407030c4d1e"
      },
      "execution_count": 18,
      "outputs": [
        {
          "output_type": "display_data",
          "data": {
            "image/jpeg": "[encoded data removed]",
            "text/plain": [
              "<IPython.core.display.Image object>"
            ]
          },
          "metadata": {}
        }
      ]
    },
    {
      "cell_type": "code",
      "source": [
        "# Input\n",
        "initial_input = {\"messages\": \"Multiply 0.6 by 0.77\"}\n",
        "\n",
        "# Thread\n",
        "thread = {\"configurable\": {\"thread_id\": 2}}\n",
        "\n",
        "# Run the graph until the first interruption\n",
        "for event in graph.stream(initial_input, thread, stream_mode=\"values\"):\n",
        "  event[\"messages\"][-1].pretty_print()\n",
        "\n",
        "# Get user feedback\n",
        "user_approval = input(\"Do you want to continue? (y/n)\")\n",
        "\n",
        "# Check approval\n",
        "if user_approval.lower().strip() in [\"y\", \"yes\"]:\n",
        "\n",
        "   # If approved, continue the execution\n",
        "   for event in graph.stream(None, thread, stream_mode=\"values\"):\n",
        "      event[\"messages\"][-1].pretty_print()\n",
        "\n",
        "else:\n",
        "  print(\"Exiting the graph\")"
      ],
      "metadata": {
        "colab": {
          "base_uri": "https://localhost:8080/"
        },
        "id": "-3Y9ma1ZQGKs",
        "outputId": "355c138b-f012-4304-8bba-4b35e206488e"
      },
      "execution_count": 11,
      "outputs": [
        {
          "output_type": "stream",
          "name": "stdout",
          "text": [
            "================================\u001b[1m Human Message \u001b[0m=================================\n",
            "\n",
            "Multiply 0.6 by 0.77\n",
            "==================================\u001b[1m Ai Message \u001b[0m==================================\n",
            "Tool Calls:\n",
            "  multiply (call_WLVlDYpcvrN6SUpn7AQEb4Kt)\n",
            " Call ID: call_WLVlDYpcvrN6SUpn7AQEb4Kt\n",
            "  Args:\n",
            "    a: 0.6\n",
            "    b: 0.77\n",
            "Do you want to continue? (y/n)  y\n",
            "==================================\u001b[1m Ai Message \u001b[0m==================================\n",
            "Tool Calls:\n",
            "  multiply (call_WLVlDYpcvrN6SUpn7AQEb4Kt)\n",
            " Call ID: call_WLVlDYpcvrN6SUpn7AQEb4Kt\n",
            "  Args:\n",
            "    a: 0.6\n",
            "    b: 0.77\n",
            "=================================\u001b[1m Tool Message \u001b[0m=================================\n",
            "Name: multiply\n",
            "\n",
            "0.46199999999999997\n",
            "==================================\u001b[1m Ai Message \u001b[0m==================================\n",
            "\n",
            "The result of multiplying \\(0.6\\) by \\(0.77\\) is approximately \\(0.462\\).\n"
          ]
        }
      ]
    },
    {
      "cell_type": "code",
      "source": [
        "# Input\n",
        "initial_input = {\"messages\": \"Multiply 0.8 by 0.112\"}\n",
        "\n",
        "# Thread\n",
        "thread = {\"configurable\": {\"thread_id\": 2}}\n",
        "\n",
        "# Run the graph until the first interruption\n",
        "for event in graph.stream(initial_input, thread, stream_mode=\"values\"):\n",
        "  event[\"messages\"][-1].pretty_print()\n",
        "\n",
        "# Get user feedback\n",
        "user_approval = input(\"Do you want to continue? (y/n)\")\n",
        "\n",
        "# Check approval\n",
        "if user_approval.lower().strip() in [\"y\", \"yes\"]:\n",
        "\n",
        "   # If approved, continue the execution\n",
        "   for event in graph.stream(None, thread, stream_mode=\"values\"):\n",
        "      event[\"messages\"][-1].pretty_print()\n",
        "\n",
        "else:\n",
        "  print(\"Exiting the graph\")"
      ],
      "metadata": {
        "colab": {
          "base_uri": "https://localhost:8080/"
        },
        "outputId": "c2e136c4-756d-4878-9172-0fad89e78029",
        "id": "vT8CshIqxB-g"
      },
      "execution_count": 12,
      "outputs": [
        {
          "output_type": "stream",
          "name": "stdout",
          "text": [
            "================================\u001b[1m Human Message \u001b[0m=================================\n",
            "\n",
            "Multiply 0.8 by 0.112\n",
            "==================================\u001b[1m Ai Message \u001b[0m==================================\n",
            "Tool Calls:\n",
            "  multiply (call_zdJdKVEMpxaQjuIfaHRw85ka)\n",
            " Call ID: call_zdJdKVEMpxaQjuIfaHRw85ka\n",
            "  Args:\n",
            "    a: 0.8\n",
            "    b: 0.112\n",
            "Do you want to continue? (y/n)no\n",
            "Exiting the graph\n"
          ]
        }
      ]
    },
    {
      "cell_type": "code",
      "source": [
        "# Input\n",
        "initial_input = {\"messages\": \"Multiply 0.6 by 0.77. Then add 0.534. And finally divide by 0.001\"}\n",
        "\n",
        "# Thread\n",
        "thread = {\"configurable\": {\"thread_id\": 121}}\n",
        "\n",
        "initial = True\n",
        "while initial or state.next:\n",
        "\n",
        "  input_val = initial_input if initial else None\n",
        "  for event in graph.stream(input_val, thread, stream_mode=\"values\"):\n",
        "      event[\"messages\"][-1].pretty_print()\n",
        "  state = graph.get_state(thread)\n",
        "  # Get user feedback\n",
        "  if state.next:\n",
        "    user_approval = input(\"Do you want to continue? (y/n)\")\n",
        "\n",
        "  # Check approval\n",
        "  if user_approval.lower().strip() in [\"y\", \"yes\"]:\n",
        "    initial = False\n",
        "    continue\n",
        "  else:\n",
        "    print(\"Exiting the graph\")\n",
        "    break"
      ],
      "metadata": {
        "colab": {
          "base_uri": "https://localhost:8080/"
        },
        "id": "WkqVFCLns6tE",
        "outputId": "7208bb24-1e7f-4f03-9864-9575b677e5a8"
      },
      "execution_count": 19,
      "outputs": [
        {
          "output_type": "stream",
          "name": "stdout",
          "text": [
            "================================\u001b[1m Human Message \u001b[0m=================================\n",
            "\n",
            "Multiply 0.6 by 0.77. Then add 0.534. And finally divide by 0.001\n",
            "==================================\u001b[1m Ai Message \u001b[0m==================================\n",
            "Tool Calls:\n",
            "  multiply (call_2K0NTrO0ZBlzoJ6mAqG1VyUH)\n",
            " Call ID: call_2K0NTrO0ZBlzoJ6mAqG1VyUH\n",
            "  Args:\n",
            "    a: 0.6\n",
            "    b: 0.77\n",
            "Do you want to continue? (y/n) yes\n",
            "==================================\u001b[1m Ai Message \u001b[0m==================================\n",
            "Tool Calls:\n",
            "  multiply (call_2K0NTrO0ZBlzoJ6mAqG1VyUH)\n",
            " Call ID: call_2K0NTrO0ZBlzoJ6mAqG1VyUH\n",
            "  Args:\n",
            "    a: 0.6\n",
            "    b: 0.77\n",
            "=================================\u001b[1m Tool Message \u001b[0m=================================\n",
            "Name: multiply\n",
            "\n",
            "0.46199999999999997\n",
            "==================================\u001b[1m Ai Message \u001b[0m==================================\n",
            "Tool Calls:\n",
            "  sum (call_qtCfr2s1ESQgAXwkq2Dr9XO7)\n",
            " Call ID: call_qtCfr2s1ESQgAXwkq2Dr9XO7\n",
            "  Args:\n",
            "    a: 0.46199999999999997\n",
            "    b: 0.534\n",
            "Do you want to continue? (y/n)   y\n",
            "==================================\u001b[1m Ai Message \u001b[0m==================================\n",
            "Tool Calls:\n",
            "  sum (call_qtCfr2s1ESQgAXwkq2Dr9XO7)\n",
            " Call ID: call_qtCfr2s1ESQgAXwkq2Dr9XO7\n",
            "  Args:\n",
            "    a: 0.46199999999999997\n",
            "    b: 0.534\n",
            "=================================\u001b[1m Tool Message \u001b[0m=================================\n",
            "Name: sum\n",
            "\n",
            "0.996\n",
            "==================================\u001b[1m Ai Message \u001b[0m==================================\n",
            "Tool Calls:\n",
            "  divide (call_FNz4h9E1f99QaPgRXyuJaySD)\n",
            " Call ID: call_FNz4h9E1f99QaPgRXyuJaySD\n",
            "  Args:\n",
            "    a: 0.996\n",
            "    b: 0.001\n",
            "Do you want to continue? (y/n)  y\n",
            "==================================\u001b[1m Ai Message \u001b[0m==================================\n",
            "Tool Calls:\n",
            "  divide (call_FNz4h9E1f99QaPgRXyuJaySD)\n",
            " Call ID: call_FNz4h9E1f99QaPgRXyuJaySD\n",
            "  Args:\n",
            "    a: 0.996\n",
            "    b: 0.001\n",
            "=================================\u001b[1m Tool Message \u001b[0m=================================\n",
            "Name: divide\n",
            "\n",
            "996.0\n",
            "==================================\u001b[1m Ai Message \u001b[0m==================================\n",
            "\n",
            "Let's break down the calculations step by step:\n",
            "\n",
            "1. **Multiply 0.6 by 0.77**:\n",
            "   \\[\n",
            "   0.6 \\times 0.77 = 0.46199999999999997\n",
            "   \\]\n",
            "\n",
            "2. **Add 0.534**:\n",
            "   \\[\n",
            "   0.46199999999999997 + 0.534 = 0.996\n",
            "   \\]\n",
            "\n",
            "3. **Divide by 0.001**:\n",
            "   \\[\n",
            "   \\frac{0.996}{0.001} = 996.0\n",
            "   \\]\n",
            "\n",
            "The final result is **996.0**.\n"
          ]
        }
      ]
    },
    {
      "cell_type": "code",
      "source": [
        "# Input\n",
        "initial_input = {\"messages\": \"Multiply 0.23 by 0.41. Then add 0.138. And finally divide by 0.01\"}\n",
        "\n",
        "# Thread\n",
        "thread = {\"configurable\": {\"thread_id\": 121}}\n",
        "\n",
        "initial = True\n",
        "while initial or state.next:\n",
        "\n",
        "  input_val = initial_input if initial else None\n",
        "  for event in graph.stream(input_val, thread, stream_mode=\"values\"):\n",
        "      event[\"messages\"][-1].pretty_print()\n",
        "  state = graph.get_state(thread)\n",
        "  # Get user feedback\n",
        "  if state.next:\n",
        "    user_approval = input(\"Do you want to continue? (y/n)\")\n",
        "\n",
        "  # Check approval\n",
        "  if user_approval.lower().strip() in [\"y\", \"yes\"]:\n",
        "    initial = False\n",
        "    continue\n",
        "  else:\n",
        "    print(\"Exiting the graph\")\n",
        "    break"
      ],
      "metadata": {
        "colab": {
          "base_uri": "https://localhost:8080/"
        },
        "outputId": "4c671967-19d9-4ded-d4b9-fc8eb8e7d958",
        "id": "mRblWnimzIcJ"
      },
      "execution_count": 20,
      "outputs": [
        {
          "output_type": "stream",
          "name": "stdout",
          "text": [
            "================================\u001b[1m Human Message \u001b[0m=================================\n",
            "\n",
            "Multiply 0.23 by 0.41. Then add 0.138. And finally divide by 0.01\n",
            "==================================\u001b[1m Ai Message \u001b[0m==================================\n",
            "Tool Calls:\n",
            "  multiply (call_4cpHWu4uYpRjSkqdOjfljfKO)\n",
            " Call ID: call_4cpHWu4uYpRjSkqdOjfljfKO\n",
            "  Args:\n",
            "    a: 0.23\n",
            "    b: 0.41\n",
            "Do you want to continue? (y/n)yes\n",
            "==================================\u001b[1m Ai Message \u001b[0m==================================\n",
            "Tool Calls:\n",
            "  multiply (call_4cpHWu4uYpRjSkqdOjfljfKO)\n",
            " Call ID: call_4cpHWu4uYpRjSkqdOjfljfKO\n",
            "  Args:\n",
            "    a: 0.23\n",
            "    b: 0.41\n",
            "=================================\u001b[1m Tool Message \u001b[0m=================================\n",
            "Name: multiply\n",
            "\n",
            "0.0943\n",
            "==================================\u001b[1m Ai Message \u001b[0m==================================\n",
            "Tool Calls:\n",
            "  sum (call_WLVlDYpcvrN6SUpn7AQEb4Kt)\n",
            " Call ID: call_WLVlDYpcvrN6SUpn7AQEb4Kt\n",
            "  Args:\n",
            "    a: 0.0943\n",
            "    b: 0.138\n",
            "Do you want to continue? (y/n)y\n",
            "==================================\u001b[1m Ai Message \u001b[0m==================================\n",
            "Tool Calls:\n",
            "  sum (call_WLVlDYpcvrN6SUpn7AQEb4Kt)\n",
            " Call ID: call_WLVlDYpcvrN6SUpn7AQEb4Kt\n",
            "  Args:\n",
            "    a: 0.0943\n",
            "    b: 0.138\n",
            "=================================\u001b[1m Tool Message \u001b[0m=================================\n",
            "Name: sum\n",
            "\n",
            "0.2323\n",
            "==================================\u001b[1m Ai Message \u001b[0m==================================\n",
            "Tool Calls:\n",
            "  divide (call_SCdOaZWOU0iSHyfe9Fdnx6cn)\n",
            " Call ID: call_SCdOaZWOU0iSHyfe9Fdnx6cn\n",
            "  Args:\n",
            "    a: 0.2323\n",
            "    b: 0.01\n",
            "Do you want to continue? (y/n)n\n",
            "Exiting the graph\n"
          ]
        }
      ]
    }
  ]
}