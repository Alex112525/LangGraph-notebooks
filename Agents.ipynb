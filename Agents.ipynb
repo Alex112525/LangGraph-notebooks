{
  "nbformat": 4,
  "nbformat_minor": 0,
  "metadata": {
    "colab": {
      "provenance": [],
      "authorship_tag": "ABX9TyOePe8S2SqE/oPaqp854Ym/",
      "include_colab_link": true
    },
    "kernelspec": {
      "name": "python3",
      "display_name": "Python 3"
    },
    "language_info": {
      "name": "python"
    }
  },
  "cells": [
    {
      "cell_type": "markdown",
      "metadata": {
        "id": "view-in-github",
        "colab_type": "text"
      },
      "source": [
        "<a href=\"https://colab.research.google.com/github/Alex112525/LangGraph-notebooks/blob/main/Agents.ipynb\" target=\"_parent\"><img src=\"https://colab.research.google.com/assets/colab-badge.svg\" alt=\"Open In Colab\"/></a>"
      ]
    },
    {
      "cell_type": "code",
      "source": [
        "pip install langgraph langgraph-sdk langgraph-checkpoint-sqlite langsmith langchain-community langchain-core langchain-openai tavily-python wikipedia"
      ],
      "metadata": {
        "collapsed": true,
        "id": "6_f_UXjQt_RA"
      },
      "execution_count": null,
      "outputs": []
    },
    {
      "cell_type": "code",
      "execution_count": 2,
      "metadata": {
        "id": "RKG1FQB1sh5D"
      },
      "outputs": [],
      "source": [
        "import os\n",
        "from google.colab import userdata\n",
        "from IPython.display import Image, display"
      ]
    },
    {
      "cell_type": "code",
      "source": [
        "from langchain_openai import AzureChatOpenAI\n",
        "from langchain_core.messages import HumanMessage, SystemMessage\n",
        "from langchain_community.retrievers import TavilySearchAPIRetriever"
      ],
      "metadata": {
        "id": "oyt1sJWewAXL"
      },
      "execution_count": 3,
      "outputs": []
    },
    {
      "cell_type": "code",
      "source": [
        "from langgraph.graph import MessagesState\n",
        "from langgraph.graph import StateGraph, START, END\n",
        "from langgraph.prebuilt import ToolNode, tools_condition\n"
      ],
      "metadata": {
        "id": "O8Ngt6D1Nw_i"
      },
      "execution_count": 4,
      "outputs": []
    },
    {
      "cell_type": "code",
      "source": [
        "os.environ[\"AZURE_OPENAI_API_KEY\"] = userdata.get('Azure_openai')\n",
        "os.environ[\"AZURE_OPENAI_ENDPOINT\"] = userdata.get('Endpoint_openai')"
      ],
      "metadata": {
        "id": "ma4zeB2TwaDl"
      },
      "execution_count": 5,
      "outputs": []
    },
    {
      "cell_type": "markdown",
      "source": [
        "## Utils Funtions"
      ],
      "metadata": {
        "id": "I3YSHIzQvyN0"
      }
    },
    {
      "cell_type": "code",
      "source": [
        "def get_model(model:str=\"DASH-mini\", temp:float=0.1, max_tokens:int=100):\n",
        "  \"\"\"Get model from Azure OpenAI\"\"\"\n",
        "  model = AzureChatOpenAI(\n",
        "        openai_api_version=\"2024-02-15-preview\",\n",
        "        azure_deployment=model,\n",
        "        temperature=temp,\n",
        "        max_tokens=max_tokens,\n",
        "    )\n",
        "  return model"
      ],
      "metadata": {
        "id": "Y-jdvuBbvxpH"
      },
      "execution_count": 6,
      "outputs": []
    },
    {
      "cell_type": "markdown",
      "source": [
        "#### Tools"
      ],
      "metadata": {
        "id": "cMvPmhkTMaez"
      }
    },
    {
      "cell_type": "code",
      "source": [
        "def sum(a:float, b:float) -> float:\n",
        "  \"\"\"Sum a and b\n",
        "\n",
        "  Args:\n",
        "    a: first number\n",
        "    b: second number\"\"\"\n",
        "  return a+b\n",
        "\n",
        "def minus(a:float, b:float) -> float:\n",
        "  \"\"\"Minus a and b\n",
        "\n",
        "  Args:\n",
        "    a: first number\n",
        "    b: second number\"\"\"\n",
        "  return a-b\n",
        "\n",
        "def multiply(a:float, b:float) -> float:\n",
        "  \"\"\"Multiply a and b\n",
        "\n",
        "  Args:\n",
        "    a: first number\n",
        "    b: second number\"\"\"\n",
        "  return a*b\n",
        "\n",
        "def divide(a:float, b:float) -> float:\n",
        "  \"\"\"Divide a and b\n",
        "\n",
        "  Args:\n",
        "    a: first number\n",
        "    b: second number\"\"\"\n",
        "  return a/b if b != 0 else \"We cannot divide by zero\""
      ],
      "metadata": {
        "id": "lF3W_BECMZYN"
      },
      "execution_count": 7,
      "outputs": []
    },
    {
      "cell_type": "markdown",
      "source": [
        "#### Model binding\n",
        "\n",
        "__“binding”__ tools refers to the process of connecting or associating specific tools or functions with the model so that it can use them during its operations."
      ],
      "metadata": {
        "id": "aAWMPkZuNFwC"
      }
    },
    {
      "cell_type": "code",
      "source": [
        "llm = get_model()\n",
        "llm_with_tools = llm.bind_tools(\n",
        "    tools=[sum, minus, multiply, divide]\n",
        ")"
      ],
      "metadata": {
        "id": "0FMEhcQiM2_B"
      },
      "execution_count": 8,
      "outputs": []
    },
    {
      "cell_type": "code",
      "source": [
        "# System Message\n",
        "sys_msg = SystemMessage(content=\"You are a helpful mathematical assistant, tasked with performing arithmetic in order on a set of inputs.\")\n",
        "\n",
        "def assistant(state: MessagesState):\n",
        "  return {\"messages\": [llm_with_tools.invoke([sys_msg] + state[\"messages\"])]}"
      ],
      "metadata": {
        "id": "BOn5hgVfNW87"
      },
      "execution_count": 9,
      "outputs": []
    },
    {
      "cell_type": "markdown",
      "source": [
        "### Build Agent and test\n",
        "\n",
        "The agent can go back to the Assistant to perform additional operations as needed."
      ],
      "metadata": {
        "id": "Srs7R4A8ZTM4"
      }
    },
    {
      "cell_type": "code",
      "source": [
        "# Build Graph\n",
        "\n",
        "builder = StateGraph(MessagesState)\n",
        "builder.add_node(\"assistant\", assistant)\n",
        "builder.add_node(\"tools\", ToolNode([sum, minus, multiply, divide]))\n",
        "\n",
        "builder.add_edge(START, \"assistant\")\n",
        "builder.add_conditional_edges(\"assistant\", tools_condition) # If latest message is a tool Call -> routes Tool else routes END\n",
        "builder.add_edge(\"tools\", \"assistant\")\n",
        "\n",
        "graph = builder.compile()\n",
        "\n",
        "#View graph\n",
        "display(Image(graph.get_graph().draw_mermaid_png()))"
      ],
      "metadata": {
        "colab": {
          "base_uri": "https://localhost:8080/",
          "height": 266
        },
        "id": "4wp0za7wOnCq",
        "outputId": "73f28cd0-e6e3-489f-b4c9-b60925158380"
      },
      "execution_count": 10,
      "outputs": [
        {
          "output_type": "display_data",
          "data": {
            "image/jpeg": "[encoded data removed]",
            "text/plain": [
              "<IPython.core.display.Image object>"
            ]
          },
          "metadata": {}
        }
      ]
    },
    {
      "cell_type": "code",
      "source": [
        "messages = [HumanMessage(content=\"Add 3 and 5. Multiply by 6. Divide by 7\")]\n",
        "messages = graph.invoke({\"messages\": messages})\n",
        "for m in messages[\"messages\"]:\n",
        "  m.pretty_print()"
      ],
      "metadata": {
        "colab": {
          "base_uri": "https://localhost:8080/"
        },
        "id": "-3Y9ma1ZQGKs",
        "outputId": "c28f2f61-be6b-49db-eeb6-4dfb07665687"
      },
      "execution_count": 11,
      "outputs": [
        {
          "output_type": "stream",
          "name": "stdout",
          "text": [
            "================================\u001b[1m Human Message \u001b[0m=================================\n",
            "\n",
            "Add 3 and 5. Multiply by 6. Divide by 7\n",
            "==================================\u001b[1m Ai Message \u001b[0m==================================\n",
            "Tool Calls:\n",
            "  sum (call_rIDbMAgsHaNkVP5ff8vP1wnl)\n",
            " Call ID: call_rIDbMAgsHaNkVP5ff8vP1wnl\n",
            "  Args:\n",
            "    a: 3\n",
            "    b: 5\n",
            "=================================\u001b[1m Tool Message \u001b[0m=================================\n",
            "Name: sum\n",
            "\n",
            "8.0\n",
            "==================================\u001b[1m Ai Message \u001b[0m==================================\n",
            "Tool Calls:\n",
            "  multiply (call_QXkfgW9A4cvo8bIjgy7m4jHp)\n",
            " Call ID: call_QXkfgW9A4cvo8bIjgy7m4jHp\n",
            "  Args:\n",
            "    a: 8\n",
            "    b: 6\n",
            "=================================\u001b[1m Tool Message \u001b[0m=================================\n",
            "Name: multiply\n",
            "\n",
            "48.0\n",
            "==================================\u001b[1m Ai Message \u001b[0m==================================\n",
            "Tool Calls:\n",
            "  divide (call_sFlc8otHqJ9UdmvagmqpLwKz)\n",
            " Call ID: call_sFlc8otHqJ9UdmvagmqpLwKz\n",
            "  Args:\n",
            "    a: 48\n",
            "    b: 7\n",
            "=================================\u001b[1m Tool Message \u001b[0m=================================\n",
            "Name: divide\n",
            "\n",
            "6.857142857142857\n",
            "==================================\u001b[1m Ai Message \u001b[0m==================================\n",
            "\n",
            "The result of adding 3 and 5, multiplying by 6, and then dividing by 7 is approximately \\( 6.86 \\).\n"
          ]
        }
      ]
    },
    {
      "cell_type": "code",
      "source": [
        "messages = [HumanMessage(content=\"What is (223-33)/(66+2)\")]\n",
        "messages = graph.invoke({\"messages\": messages})\n",
        "for m in messages[\"messages\"]:\n",
        "  m.pretty_print()"
      ],
      "metadata": {
        "colab": {
          "base_uri": "https://localhost:8080/"
        },
        "outputId": "2bf517b9-09c6-4483-c042-4568e271a2f4",
        "id": "RTCL4Gh-U4o0"
      },
      "execution_count": 12,
      "outputs": [
        {
          "output_type": "stream",
          "name": "stdout",
          "text": [
            "================================\u001b[1m Human Message \u001b[0m=================================\n",
            "\n",
            "What is (223-33)/(66+2)\n",
            "==================================\u001b[1m Ai Message \u001b[0m==================================\n",
            "Tool Calls:\n",
            "  minus (call_TUtPgTkaE4x2GPQDhuriLGoF)\n",
            " Call ID: call_TUtPgTkaE4x2GPQDhuriLGoF\n",
            "  Args:\n",
            "    a: 223\n",
            "    b: 33\n",
            "  sum (call_pJtOX8nOrdo9HFHDXN5i3BwZ)\n",
            " Call ID: call_pJtOX8nOrdo9HFHDXN5i3BwZ\n",
            "  Args:\n",
            "    a: 66\n",
            "    b: 2\n",
            "=================================\u001b[1m Tool Message \u001b[0m=================================\n",
            "Name: minus\n",
            "\n",
            "190.0\n",
            "=================================\u001b[1m Tool Message \u001b[0m=================================\n",
            "Name: sum\n",
            "\n",
            "68.0\n",
            "==================================\u001b[1m Ai Message \u001b[0m==================================\n",
            "Tool Calls:\n",
            "  divide (call_BjZwNQmBlLfMF4csiAJvZpBw)\n",
            " Call ID: call_BjZwNQmBlLfMF4csiAJvZpBw\n",
            "  Args:\n",
            "    a: 190\n",
            "    b: 68\n",
            "=================================\u001b[1m Tool Message \u001b[0m=================================\n",
            "Name: divide\n",
            "\n",
            "2.7941176470588234\n",
            "==================================\u001b[1m Ai Message \u001b[0m==================================\n",
            "\n",
            "The result of \\((223 - 33) / (66 + 2)\\) is approximately \\(2.79\\).\n"
          ]
        }
      ]
    },
    {
      "cell_type": "code",
      "source": [
        "messages = [HumanMessage(content=\"What is (87-96)*(34-12)\")]\n",
        "messages = graph.invoke({\"messages\": messages})\n",
        "for m in messages[\"messages\"]:\n",
        "  m.pretty_print()"
      ],
      "metadata": {
        "colab": {
          "base_uri": "https://localhost:8080/"
        },
        "outputId": "c90ff090-9e00-4629-c568-e30d18f9d5de",
        "id": "25ouCX58f_Pl"
      },
      "execution_count": 13,
      "outputs": [
        {
          "output_type": "stream",
          "name": "stdout",
          "text": [
            "================================\u001b[1m Human Message \u001b[0m=================================\n",
            "\n",
            "What is (87-96)*(34-12)\n",
            "==================================\u001b[1m Ai Message \u001b[0m==================================\n",
            "Tool Calls:\n",
            "  minus (call_Lia5eiGcIGb9QLkNAQO5lJ0J)\n",
            " Call ID: call_Lia5eiGcIGb9QLkNAQO5lJ0J\n",
            "  Args:\n",
            "    a: 87\n",
            "    b: 96\n",
            "  minus (call_tzrzmvJ13XasZ6wusdJJhTyz)\n",
            " Call ID: call_tzrzmvJ13XasZ6wusdJJhTyz\n",
            "  Args:\n",
            "    a: 34\n",
            "    b: 12\n",
            "=================================\u001b[1m Tool Message \u001b[0m=================================\n",
            "Name: minus\n",
            "\n",
            "-9.0\n",
            "=================================\u001b[1m Tool Message \u001b[0m=================================\n",
            "Name: minus\n",
            "\n",
            "22.0\n",
            "==================================\u001b[1m Ai Message \u001b[0m==================================\n",
            "Tool Calls:\n",
            "  multiply (call_OgPPEz49B7Yp5gnei2plQIFu)\n",
            " Call ID: call_OgPPEz49B7Yp5gnei2plQIFu\n",
            "  Args:\n",
            "    a: -9\n",
            "    b: 22\n",
            "=================================\u001b[1m Tool Message \u001b[0m=================================\n",
            "Name: multiply\n",
            "\n",
            "-198.0\n",
            "==================================\u001b[1m Ai Message \u001b[0m==================================\n",
            "\n",
            "The result of \\((87 - 96) \\times (34 - 12)\\) is \\(-198\\).\n"
          ]
        }
      ]
    },
    {
      "cell_type": "code",
      "source": [
        "messages = [HumanMessage(content=\"What is the result of (32)/(11-11)\")]\n",
        "messages = graph.invoke({\"messages\": messages})\n",
        "for m in messages[\"messages\"]:\n",
        "  m.pretty_print()"
      ],
      "metadata": {
        "colab": {
          "base_uri": "https://localhost:8080/"
        },
        "outputId": "426125c7-da93-41cc-9ddf-b76eabd4da43",
        "id": "894apCjegPLr"
      },
      "execution_count": 14,
      "outputs": [
        {
          "output_type": "stream",
          "name": "stdout",
          "text": [
            "================================\u001b[1m Human Message \u001b[0m=================================\n",
            "\n",
            "What is the result of (32)/(11-11)\n",
            "==================================\u001b[1m Ai Message \u001b[0m==================================\n",
            "\n",
            "The expression \\( (32)/(11-11) \\) involves division by zero, since \\( 11 - 11 = 0 \\). Division by zero is undefined in mathematics. Therefore, the result of this expression is undefined.\n"
          ]
        }
      ]
    }
  ]
}