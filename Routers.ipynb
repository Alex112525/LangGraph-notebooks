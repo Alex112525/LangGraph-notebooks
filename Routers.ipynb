{
  "nbformat": 4,
  "nbformat_minor": 0,
  "metadata": {
    "colab": {
      "provenance": [],
      "authorship_tag": "ABX9TyOem/voSk1C6iiGyA995p6o",
      "include_colab_link": true
    },
    "kernelspec": {
      "name": "python3",
      "display_name": "Python 3"
    },
    "language_info": {
      "name": "python"
    }
  },
  "cells": [
    {
      "cell_type": "markdown",
      "metadata": {
        "id": "view-in-github",
        "colab_type": "text"
      },
      "source": [
        "<a href=\"https://colab.research.google.com/github/Alex112525/LangGraph-notebooks/blob/main/Routers.ipynb\" target=\"_parent\"><img src=\"https://colab.research.google.com/assets/colab-badge.svg\" alt=\"Open In Colab\"/></a>"
      ]
    },
    {
      "cell_type": "code",
      "source": [
        "pip install langgraph langgraph-sdk langgraph-checkpoint-sqlite langsmith langchain-community langchain-core langchain-openai tavily-python wikipedia"
      ],
      "metadata": {
        "collapsed": true,
        "id": "6_f_UXjQt_RA"
      },
      "execution_count": null,
      "outputs": []
    },
    {
      "cell_type": "code",
      "execution_count": 2,
      "metadata": {
        "id": "RKG1FQB1sh5D"
      },
      "outputs": [],
      "source": [
        "import os\n",
        "from google.colab import userdata\n",
        "from IPython.display import Image, display"
      ]
    },
    {
      "cell_type": "code",
      "source": [
        "from langchain_openai import AzureChatOpenAI\n",
        "from langchain_core.messages import HumanMessage\n",
        "from langchain_community.retrievers import TavilySearchAPIRetriever"
      ],
      "metadata": {
        "id": "oyt1sJWewAXL"
      },
      "execution_count": 3,
      "outputs": []
    },
    {
      "cell_type": "code",
      "source": [
        "from langgraph.graph import MessagesState\n",
        "from langgraph.graph import StateGraph, START, END\n",
        "from langgraph.prebuilt import ToolNode, tools_condition\n"
      ],
      "metadata": {
        "id": "O8Ngt6D1Nw_i"
      },
      "execution_count": 4,
      "outputs": []
    },
    {
      "cell_type": "code",
      "source": [
        "os.environ[\"AZURE_OPENAI_API_KEY\"] = userdata.get('Azure_openai')\n",
        "os.environ[\"AZURE_OPENAI_ENDPOINT\"] = userdata.get('Endpoint_openai')"
      ],
      "metadata": {
        "id": "ma4zeB2TwaDl"
      },
      "execution_count": 5,
      "outputs": []
    },
    {
      "cell_type": "markdown",
      "source": [
        "## Utils Funtions"
      ],
      "metadata": {
        "id": "I3YSHIzQvyN0"
      }
    },
    {
      "cell_type": "code",
      "source": [
        "def get_model(model:str=\"DASH-mini\", temp:float=0.1, max_tokens:int=100):\n",
        "  \"\"\"Get model from Azure OpenAI\"\"\"\n",
        "  model = AzureChatOpenAI(\n",
        "        openai_api_version=\"2024-02-15-preview\",\n",
        "        azure_deployment=model,\n",
        "        temperature=temp,\n",
        "        max_tokens=max_tokens,\n",
        "    )\n",
        "  return model"
      ],
      "metadata": {
        "id": "Y-jdvuBbvxpH"
      },
      "execution_count": 6,
      "outputs": []
    },
    {
      "cell_type": "markdown",
      "source": [
        "#### Tools"
      ],
      "metadata": {
        "id": "cMvPmhkTMaez"
      }
    },
    {
      "cell_type": "code",
      "source": [
        "def sum(a:int, b:int) -> int:\n",
        "  \"\"\"Sum a and b\n",
        "\n",
        "  Args:\n",
        "    a: first number\n",
        "    b: second number\"\"\"\n",
        "  return a+b\n",
        "\n",
        "def minus(a:int, b:int):\n",
        "  \"\"\"Minus a and b\n",
        "\n",
        "  Args:\n",
        "    a: first number\n",
        "    b: second number\"\"\"\n",
        "  return a-b\n",
        "\n",
        "def multiply(a:int, b:int):\n",
        "  \"\"\"Multiply a and b\n",
        "\n",
        "  Args:\n",
        "    a: first number\n",
        "    b: second number\"\"\"\n",
        "  return a*b\n",
        "\n",
        "def divide(a:int, b:int):\n",
        "  \"\"\"Divide a and b\n",
        "\n",
        "  Args:\n",
        "    a: first number\n",
        "    b: second number\"\"\"\n",
        "  return a/b if b != 0 else \"We cannot divide by zero\""
      ],
      "metadata": {
        "id": "lF3W_BECMZYN"
      },
      "execution_count": 7,
      "outputs": []
    },
    {
      "cell_type": "markdown",
      "source": [
        "#### Model binding\n",
        "\n",
        "__“binding”__ tools refers to the process of connecting or associating specific tools or functions with the model so that it can use them during its operations."
      ],
      "metadata": {
        "id": "aAWMPkZuNFwC"
      }
    },
    {
      "cell_type": "code",
      "source": [
        "llm = get_model()\n",
        "llm_with_tools = llm.bind_tools(\n",
        "    tools=[sum, minus, multiply, divide]\n",
        ")"
      ],
      "metadata": {
        "id": "0FMEhcQiM2_B"
      },
      "execution_count": 8,
      "outputs": []
    },
    {
      "cell_type": "code",
      "source": [
        "def tool_calling_llm(state: MessagesState):\n",
        "  return {\"messages\": [llm_with_tools.invoke(state[\"messages\"])]}"
      ],
      "metadata": {
        "id": "BOn5hgVfNW87"
      },
      "execution_count": 9,
      "outputs": []
    },
    {
      "cell_type": "code",
      "source": [
        "# Build Graph\n",
        "\n",
        "builder = StateGraph(MessagesState)\n",
        "builder.add_node(\"tool_calling_llm\", tool_calling_llm)\n",
        "builder.add_node(\"tools\", ToolNode([sum, minus, multiply, divide]))\n",
        "builder.add_edge(START, \"tool_calling_llm\")\n",
        "builder.add_conditional_edges(\"tool_calling_llm\", tools_condition) # If latest message is a tool Call -> routes Tool else routes END\n",
        "builder.add_edge(\"tools\", END)\n",
        "\n",
        "graph = builder.compile()\n",
        "\n",
        "#View graph\n",
        "display(Image(graph.get_graph().draw_mermaid_png()))"
      ],
      "metadata": {
        "colab": {
          "base_uri": "https://localhost:8080/",
          "height": 350
        },
        "id": "4wp0za7wOnCq",
        "outputId": "34a77e45-07c8-45fe-c82c-60dc4551ba27"
      },
      "execution_count": 10,
      "outputs": [
        {
          "output_type": "display_data",
          "data": {
            "image/jpeg": "[encoded data removed]",
            "text/plain": [
              "<IPython.core.display.Image object>"
            ]
          },
          "metadata": {}
        }
      ]
    },
    {
      "cell_type": "code",
      "source": [
        "messages = [HumanMessage(content=\"What is 242+203\")]\n",
        "messages = graph.invoke({\"messages\": messages})\n",
        "for m in messages[\"messages\"]:\n",
        "  m.pretty_print()"
      ],
      "metadata": {
        "colab": {
          "base_uri": "https://localhost:8080/"
        },
        "id": "-3Y9ma1ZQGKs",
        "outputId": "1c13797a-f53c-40e7-8e26-1ed135530639"
      },
      "execution_count": 11,
      "outputs": [
        {
          "output_type": "stream",
          "name": "stdout",
          "text": [
            "================================\u001b[1m Human Message \u001b[0m=================================\n",
            "\n",
            "What is 242+203\n",
            "==================================\u001b[1m Ai Message \u001b[0m==================================\n",
            "Tool Calls:\n",
            "  sum (call_1mjUdHD7DAUjsiDItweI11hi)\n",
            " Call ID: call_1mjUdHD7DAUjsiDItweI11hi\n",
            "  Args:\n",
            "    a: 242\n",
            "    b: 203\n",
            "=================================\u001b[1m Tool Message \u001b[0m=================================\n",
            "Name: sum\n",
            "\n",
            "445\n"
          ]
        }
      ]
    },
    {
      "cell_type": "code",
      "source": [
        "messages = [HumanMessage(content=\"What is 223-33\")]\n",
        "messages = graph.invoke({\"messages\": messages})\n",
        "for m in messages[\"messages\"]:\n",
        "  m.pretty_print()"
      ],
      "metadata": {
        "colab": {
          "base_uri": "https://localhost:8080/"
        },
        "outputId": "cfb9f041-e6b7-435f-9171-6fb39ccdee46",
        "id": "RTCL4Gh-U4o0"
      },
      "execution_count": 12,
      "outputs": [
        {
          "output_type": "stream",
          "name": "stdout",
          "text": [
            "================================\u001b[1m Human Message \u001b[0m=================================\n",
            "\n",
            "What is 223-33\n",
            "==================================\u001b[1m Ai Message \u001b[0m==================================\n",
            "Tool Calls:\n",
            "  minus (call_mxEy39g8bdDKu0tDecNskJyz)\n",
            " Call ID: call_mxEy39g8bdDKu0tDecNskJyz\n",
            "  Args:\n",
            "    a: 223\n",
            "    b: 33\n",
            "=================================\u001b[1m Tool Message \u001b[0m=================================\n",
            "Name: minus\n",
            "\n",
            "190\n"
          ]
        }
      ]
    },
    {
      "cell_type": "code",
      "source": [
        "messages = [HumanMessage(content=\"What is 2223*20\")]\n",
        "messages = graph.invoke({\"messages\": messages})\n",
        "for m in messages[\"messages\"]:\n",
        "  m.pretty_print()"
      ],
      "metadata": {
        "colab": {
          "base_uri": "https://localhost:8080/"
        },
        "outputId": "17603cf5-1b0d-45e9-d153-04556a4960e9",
        "id": "QjXYnU3mU4zM"
      },
      "execution_count": 13,
      "outputs": [
        {
          "output_type": "stream",
          "name": "stdout",
          "text": [
            "================================\u001b[1m Human Message \u001b[0m=================================\n",
            "\n",
            "What is 2223*20\n",
            "==================================\u001b[1m Ai Message \u001b[0m==================================\n",
            "Tool Calls:\n",
            "  multiply (call_VM7OqfRNyC5XNCIY8Ro35XtJ)\n",
            " Call ID: call_VM7OqfRNyC5XNCIY8Ro35XtJ\n",
            "  Args:\n",
            "    a: 2223\n",
            "    b: 20\n",
            "=================================\u001b[1m Tool Message \u001b[0m=================================\n",
            "Name: multiply\n",
            "\n",
            "44460\n"
          ]
        }
      ]
    },
    {
      "cell_type": "code",
      "source": [
        "messages = [HumanMessage(content=\"What is 129823/65\")]\n",
        "messages = graph.invoke({\"messages\": messages})\n",
        "for m in messages[\"messages\"]:\n",
        "  m.pretty_print()"
      ],
      "metadata": {
        "colab": {
          "base_uri": "https://localhost:8080/"
        },
        "outputId": "3637e8d2-9b21-4da6-d6ea-1fafa9785b0c",
        "id": "OXdHoyTVU478"
      },
      "execution_count": 14,
      "outputs": [
        {
          "output_type": "stream",
          "name": "stdout",
          "text": [
            "================================\u001b[1m Human Message \u001b[0m=================================\n",
            "\n",
            "What is 129823/65\n",
            "==================================\u001b[1m Ai Message \u001b[0m==================================\n",
            "Tool Calls:\n",
            "  divide (call_pyMJj5upBbj4AfTHmHxnX6yL)\n",
            " Call ID: call_pyMJj5upBbj4AfTHmHxnX6yL\n",
            "  Args:\n",
            "    a: 129823\n",
            "    b: 65\n",
            "=================================\u001b[1m Tool Message \u001b[0m=================================\n",
            "Name: divide\n",
            "\n",
            "1997.2769230769231\n"
          ]
        }
      ]
    },
    {
      "cell_type": "code",
      "source": [
        "messages = [HumanMessage(content=\"Hello, How Are You?\")]\n",
        "messages = graph.invoke({\"messages\": messages})\n",
        "for m in messages[\"messages\"]:\n",
        "  m.pretty_print()"
      ],
      "metadata": {
        "colab": {
          "base_uri": "https://localhost:8080/"
        },
        "outputId": "e8453a85-9c26-45b6-e934-8586ca3fa49b",
        "id": "654X5TzFVbJJ"
      },
      "execution_count": 15,
      "outputs": [
        {
          "output_type": "stream",
          "name": "stdout",
          "text": [
            "================================\u001b[1m Human Message \u001b[0m=================================\n",
            "\n",
            "Hello, How Are You?\n",
            "==================================\u001b[1m Ai Message \u001b[0m==================================\n",
            "\n",
            "I'm just a program, but I'm here and ready to help you! How can I assist you today?\n"
          ]
        }
      ]
    }
  ]
}