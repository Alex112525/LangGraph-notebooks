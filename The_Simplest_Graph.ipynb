{
  "nbformat": 4,
  "nbformat_minor": 0,
  "metadata": {
    "colab": {
      "provenance": [],
      "authorship_tag": "ABX9TyP1mEh1jaqtd1R7G8zFy2hY",
      "include_colab_link": true
    },
    "kernelspec": {
      "name": "python3",
      "display_name": "Python 3"
    },
    "language_info": {
      "name": "python"
    }
  },
  "cells": [
    {
      "cell_type": "markdown",
      "metadata": {
        "id": "view-in-github",
        "colab_type": "text"
      },
      "source": [
        "<a href=\"https://colab.research.google.com/github/Alex112525/LangGraph-notebooks/blob/main/The_Simplest_Graph.ipynb\" target=\"_parent\"><img src=\"https://colab.research.google.com/assets/colab-badge.svg\" alt=\"Open In Colab\"/></a>"
      ]
    },
    {
      "cell_type": "code",
      "source": [
        "pip install langgraph langgraph-sdk langgraph-checkpoint-sqlite langsmith langchain-community langchain-core langchain-openai tavily-python wikipedia"
      ],
      "metadata": {
        "collapsed": true,
        "id": "6_f_UXjQt_RA"
      },
      "execution_count": null,
      "outputs": []
    },
    {
      "cell_type": "code",
      "execution_count": 2,
      "metadata": {
        "id": "RKG1FQB1sh5D"
      },
      "outputs": [],
      "source": [
        "import os\n",
        "import random\n",
        "from IPython.display import display, Image\n",
        "from typing import TypedDict, Literal\n",
        "from google.colab import userdata"
      ]
    },
    {
      "cell_type": "code",
      "source": [
        "from langchain_openai import AzureChatOpenAI\n",
        "from langgraph.graph import StateGraph, START, END\n",
        "from langchain_community.retrievers import TavilySearchAPIRetriever"
      ],
      "metadata": {
        "id": "oyt1sJWewAXL"
      },
      "execution_count": 3,
      "outputs": []
    },
    {
      "cell_type": "markdown",
      "source": [
        "### Simplest Graph"
      ],
      "metadata": {
        "id": "8sC56RVi1MCA"
      }
    },
    {
      "cell_type": "markdown",
      "source": [
        "#### State"
      ],
      "metadata": {
        "id": "MtNqU0gKrkOi"
      }
    },
    {
      "cell_type": "code",
      "source": [
        "class State(TypedDict):\n",
        "  \"Schema to save the state of the graph\"\n",
        "  graph_state:str"
      ],
      "metadata": {
        "id": "a82xX_FErIKu"
      },
      "execution_count": 4,
      "outputs": []
    },
    {
      "cell_type": "markdown",
      "source": [
        "#### Nodes"
      ],
      "metadata": {
        "id": "Hwfd_8OirmG_"
      }
    },
    {
      "cell_type": "code",
      "source": [
        "def node1(state):\n",
        "  print(\"-- NODE 1\")\n",
        "  return {\"graph_state\": state[\"graph_state\"] + \" I am\"}\n",
        "\n",
        "def node2(state):\n",
        "  print(\"-- NODE 2\")\n",
        "  return {\"graph_state\": state[\"graph_state\"] + \" happy\"}\n",
        "\n",
        "def node3(state):\n",
        "  print(\"-- NODE 3\")\n",
        "  return {\"graph_state\": state[\"graph_state\"] + \" sad\"}"
      ],
      "metadata": {
        "id": "S97JjEVgrerv"
      },
      "execution_count": 5,
      "outputs": []
    },
    {
      "cell_type": "markdown",
      "source": [
        "#### Edges"
      ],
      "metadata": {
        "id": "mTQf9uokvBW2"
      }
    },
    {
      "cell_type": "code",
      "source": [
        "def decide_mood(state) -> Literal[\"node_2\", \"node_3\"]:\n",
        "  if random.random() > 0.5:\n",
        "    return \"node_1\"\n",
        "  else:\n",
        "    return \"node_2\""
      ],
      "metadata": {
        "id": "MlcoXkk6u_jk"
      },
      "execution_count": 6,
      "outputs": []
    },
    {
      "cell_type": "markdown",
      "source": [
        "#### Graph construction"
      ],
      "metadata": {
        "id": "KRnQTFh1wN1c"
      }
    },
    {
      "cell_type": "code",
      "source": [
        "# Build graph\n",
        "builder = StateGraph(State)\n",
        "builder.add_node(\"node_1\", node1)\n",
        "builder.add_node(\"node_2\", node2)\n",
        "builder.add_node(\"node_3\", node3)\n",
        "\n",
        "# Logic\n",
        "builder.add_edge(START, \"node_1\")\n",
        "builder.add_conditional_edges(\"node_1\", decide_mood)\n",
        "builder.add_edge(\"node_2\", END)\n",
        "builder.add_edge(\"node_3\", END)\n",
        "\n",
        "# Compile\n",
        "graph = builder.compile()\n",
        "\n",
        "# View\n",
        "display(Image(graph.get_graph().draw_mermaid_png()))"
      ],
      "metadata": {
        "colab": {
          "base_uri": "https://localhost:8080/",
          "height": 350
        },
        "id": "uT9Scq9zwNPF",
        "outputId": "99aeb392-41ba-4bcb-af60-9979c7bc3080"
      },
      "execution_count": 7,
      "outputs": [
        {
          "output_type": "display_data",
          "data": {
            "image/jpeg": "[encoded data removed]",
            "text/plain": [
              "<IPython.core.display.Image object>"
            ]
          },
          "metadata": {}
        }
      ]
    },
    {
      "cell_type": "markdown",
      "source": [
        "#### Graph Invoke"
      ],
      "metadata": {
        "id": "4kdGbPNAymQB"
      }
    },
    {
      "cell_type": "code",
      "source": [
        "graph.invoke({\"graph_state\": \"Hi, This is Alex.\"})"
      ],
      "metadata": {
        "colab": {
          "base_uri": "https://localhost:8080/"
        },
        "id": "J9ZEvwVoykz8",
        "outputId": "09be4822-bb97-4fa9-8dbf-335dbb1ecf17"
      },
      "execution_count": 8,
      "outputs": [
        {
          "output_type": "stream",
          "name": "stdout",
          "text": [
            "-- NODE 1\n",
            "-- NODE 2\n"
          ]
        },
        {
          "output_type": "execute_result",
          "data": {
            "text/plain": [
              "{'graph_state': 'Hi, This is Alex. I am happy'}"
            ]
          },
          "metadata": {},
          "execution_count": 8
        }
      ]
    },
    {
      "cell_type": "markdown",
      "source": [
        "### Practice with nodes"
      ],
      "metadata": {
        "id": "aNO-J-cA1A7r"
      }
    },
    {
      "cell_type": "code",
      "source": [
        "def count(state):\n",
        "  print(\"-- count\", state)\n",
        "  return {\"graph_state\": state[\"graph_state\"] + 1}"
      ],
      "metadata": {
        "id": "OYWR-gDG1QSm"
      },
      "execution_count": 9,
      "outputs": []
    },
    {
      "cell_type": "code",
      "source": [
        "def check_count(state) -> Literal[\"node_1\", END]:\n",
        "  if state[\"graph_state\"] < 10:\n",
        "    return \"node_1\"\n",
        "  else:\n",
        "    return END"
      ],
      "metadata": {
        "id": "nEIVb6JD0mXh"
      },
      "execution_count": 10,
      "outputs": []
    },
    {
      "cell_type": "code",
      "source": [
        "# Build graph\n",
        "builder = StateGraph(State)\n",
        "builder.add_node(\"node_1\", count)\n",
        "\n",
        "# Logic\n",
        "builder.add_edge(START, \"node_1\")\n",
        "builder.add_conditional_edges(\"node_1\", check_count)\n",
        "\n",
        "# Compile\n",
        "graph = builder.compile()\n",
        "\n",
        "# View\n",
        "display(Image(graph.get_graph().draw_mermaid_png()))"
      ],
      "metadata": {
        "colab": {
          "base_uri": "https://localhost:8080/",
          "height": 301
        },
        "id": "vPu-J67v1Zcl",
        "outputId": "1a95f902-4dcc-41e9-fc25-b5b109eaaf1d"
      },
      "execution_count": 11,
      "outputs": [
        {
          "output_type": "display_data",
          "data": {
            "image/jpeg": "[encoded data removed]",
            "text/plain": [
              "<IPython.core.display.Image object>"
            ]
          },
          "metadata": {}
        }
      ]
    },
    {
      "cell_type": "code",
      "source": [
        "graph.invoke({\"graph_state\": 0})"
      ],
      "metadata": {
        "colab": {
          "base_uri": "https://localhost:8080/"
        },
        "id": "_QhzTijO1rop",
        "outputId": "db3f4f0d-4501-450b-80c4-094ceae4953f"
      },
      "execution_count": 12,
      "outputs": [
        {
          "output_type": "stream",
          "name": "stdout",
          "text": [
            "-- count {'graph_state': 0}\n",
            "-- count {'graph_state': 1}\n",
            "-- count {'graph_state': 2}\n",
            "-- count {'graph_state': 3}\n",
            "-- count {'graph_state': 4}\n",
            "-- count {'graph_state': 5}\n",
            "-- count {'graph_state': 6}\n",
            "-- count {'graph_state': 7}\n",
            "-- count {'graph_state': 8}\n",
            "-- count {'graph_state': 9}\n"
          ]
        },
        {
          "output_type": "execute_result",
          "data": {
            "text/plain": [
              "{'graph_state': 10}"
            ]
          },
          "metadata": {},
          "execution_count": 12
        }
      ]
    },
    {
      "cell_type": "markdown",
      "source": [
        "### Practice conditionals"
      ],
      "metadata": {
        "id": "Vn33jMy42Mpe"
      }
    },
    {
      "cell_type": "code",
      "source": [
        "def set_random_number(state):\n",
        "  print(\"-- count\")\n",
        "  return {\"graph_state\": random.randint(0,100)}\n",
        "\n",
        "def div_by_two(state):\n",
        "  print(\"-- div\", state[\"graph_state\"])\n",
        "  return {\"graph_state\": state[\"graph_state\"] / 2}\n",
        "\n",
        "def plus_one(state):\n",
        "  print(\"-- plus\", state[\"graph_state\"])\n",
        "  return {\"graph_state\": state[\"graph_state\"] + 1}"
      ],
      "metadata": {
        "id": "KAsMUejl2R1s"
      },
      "execution_count": 13,
      "outputs": []
    },
    {
      "cell_type": "code",
      "source": [
        "def check_num(state) -> Literal[\"div\", \"plus\", END]:\n",
        "  if state[\"graph_state\"] == 1:\n",
        "    return END\n",
        "  if state[\"graph_state\"]%2 == 0:\n",
        "    return \"div\"\n",
        "  else:\n",
        "    return \"plus\""
      ],
      "metadata": {
        "id": "coiWdQzO2hlE"
      },
      "execution_count": 14,
      "outputs": []
    },
    {
      "cell_type": "code",
      "source": [
        "# Build graph\n",
        "builder = StateGraph(State)\n",
        "builder.add_node(\"set_num\", set_random_number)\n",
        "builder.add_node(\"div\", div_by_two)\n",
        "builder.add_node(\"plus\", plus_one)\n",
        "\n",
        "# Logic\n",
        "builder.add_edge(START, \"set_num\")\n",
        "builder.add_conditional_edges(\"set_num\", check_num)\n",
        "builder.add_conditional_edges(\"div\", check_num)\n",
        "builder.add_conditional_edges(\"plus\", check_num)\n",
        "\n",
        "# Compile\n",
        "graph = builder.compile()\n",
        "\n",
        "# View\n",
        "display(Image(graph.get_graph().draw_mermaid_png()))"
      ],
      "metadata": {
        "colab": {
          "base_uri": "https://localhost:8080/",
          "height": 499
        },
        "id": "iDjufHOP2R4P",
        "outputId": "9c92bb4c-e2eb-4a3c-db72-44f15fb0ae9c"
      },
      "execution_count": 15,
      "outputs": [
        {
          "output_type": "display_data",
          "data": {
            "image/jpeg": "[encoded data removed]",
            "text/plain": [
              "<IPython.core.display.Image object>"
            ]
          },
          "metadata": {}
        }
      ]
    },
    {
      "cell_type": "code",
      "source": [
        "graph.invoke({\"graph_state\": 0})"
      ],
      "metadata": {
        "colab": {
          "base_uri": "https://localhost:8080/"
        },
        "id": "1g3C6F9f2R6E",
        "outputId": "8dd5246d-7053-474b-8db0-6871dbb75451"
      },
      "execution_count": 16,
      "outputs": [
        {
          "output_type": "stream",
          "name": "stdout",
          "text": [
            "-- count\n",
            "-- div 90\n",
            "-- plus 45.0\n",
            "-- div 46.0\n",
            "-- plus 23.0\n",
            "-- div 24.0\n",
            "-- div 12.0\n",
            "-- div 6.0\n",
            "-- plus 3.0\n",
            "-- div 4.0\n",
            "-- div 2.0\n"
          ]
        },
        {
          "output_type": "execute_result",
          "data": {
            "text/plain": [
              "{'graph_state': 1.0}"
            ]
          },
          "metadata": {},
          "execution_count": 16
        }
      ]
    }
  ]
}